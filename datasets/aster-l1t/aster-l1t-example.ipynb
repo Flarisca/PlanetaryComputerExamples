{
 "cells": [
  {
   "cell_type": "markdown",
   "id": "e7022b3a",
   "metadata": {},
   "source": [
    "## Accessing ASTER L1T data with the Planetary Computer STAC API"
   ]
  },
  {
   "cell_type": "code",
   "execution_count": 1,
   "id": "11c27858",
   "metadata": {},
   "outputs": [],
   "source": [
    "from pystac_client import API\n",
    "import planetary_computer as pc"
   ]
  },
  {
   "cell_type": "markdown",
   "id": "9f28545c",
   "metadata": {},
   "source": [
    "Using [pystac_client](https://github.com/stac-utils/pystac-client) we can fetch information about the ASTER L1T collection:"
   ]
  },
  {
   "cell_type": "code",
   "execution_count": 465,
   "id": "16de6bec",
   "metadata": {},
   "outputs": [],
   "source": [
    "api = API.open(\"https://planetarycomputer.microsoft.com/api/stac/v1\")"
   ]
  },
  {
   "cell_type": "code",
   "execution_count": 466,
   "id": "f9dad70e",
   "metadata": {},
   "outputs": [],
   "source": [
    "aster_l1t = api.get_child(id='aster-l1t')"
   ]
  },
  {
   "cell_type": "markdown",
   "id": "f1c51ee4",
   "metadata": {},
   "source": [
    "The Planetary Computer ASTER L1T data is for a limited scope in time:"
   ]
  },
  {
   "cell_type": "code",
   "execution_count": 467,
   "id": "e1085d97",
   "metadata": {},
   "outputs": [
    {
     "data": {
      "text/plain": [
       "{'interval': [['2000-03-04T12:00:00Z', '2006-12-31T12:00:00Z']]}"
      ]
     },
     "execution_count": 467,
     "metadata": {},
     "output_type": "execute_result"
    }
   ],
   "source": [
    "aster_l1t.extent.temporal.to_dict()"
   ]
  },
  {
   "cell_type": "markdown",
   "id": "f378725f",
   "metadata": {},
   "source": [
    "For this example we'll search 2003 imagery over an area in Redmond, around Microsoft's main campus."
   ]
  },
  {
   "cell_type": "code",
   "execution_count": 468,
   "id": "aea08e30",
   "metadata": {},
   "outputs": [],
   "source": [
    "time_of_interest = \"2003-01-01/2003-12-31\""
   ]
  },
  {
   "cell_type": "code",
   "execution_count": 469,
   "id": "0307c864",
   "metadata": {},
   "outputs": [],
   "source": [
    "area_of_interest = {\n",
    "    \"type\": \"Polygon\",\n",
    "    \"coordinates\": [\n",
    "        [\n",
    "            [-122.27508544921875, 47.54687159892238],\n",
    "            [-121.96128845214844, 47.54687159892238],\n",
    "            [-121.96128845214844, 47.745787772920934],\n",
    "            [-122.27508544921875, 47.745787772920934],\n",
    "            [-122.27508544921875, 47.54687159892238],\n",
    "        ]\n",
    "    ],\n",
    "}"
   ]
  },
  {
   "cell_type": "markdown",
   "id": "caf33051",
   "metadata": {},
   "source": [
    "We'll use this criteria to perform a search against the STAC API:"
   ]
  },
  {
   "cell_type": "code",
   "execution_count": 470,
   "id": "a191ff20",
   "metadata": {},
   "outputs": [
    {
     "name": "stdout",
     "output_type": "stream",
     "text": [
      "48 Items found\n"
     ]
    }
   ],
   "source": [
    "search = api.search(\n",
    "    collections=['aster-l1t'], \n",
    "    intersects=area_of_interest, \n",
    "    datetime=time_of_interest    \n",
    ")\n",
    "print(f\"{search.matched()} Items found\")"
   ]
  },
  {
   "cell_type": "markdown",
   "id": "a6bc278c",
   "metadata": {},
   "source": [
    "We can use the code below to look through the 'browse' thumbnail assets for the Items returned. Notice the usage of the [planetary-computer](https://github.com/microsoft/planetary-computer-sdk-for-python) package's `pc.sign` method - this provides a version of the URL to the image that has a [Shared Access Signature](https://docs.microsoft.com/en-us/azure/storage/common/storage-sas-overview) attached to it, which allows us to use the HREF in tooling that expects a publicly accessible URL."
   ]
  },
  {
   "cell_type": "code",
   "execution_count": 449,
   "id": "efb10299",
   "metadata": {},
   "outputs": [],
   "source": [
    "from IPython.display import Image"
   ]
  },
  {
   "cell_type": "code",
   "execution_count": 463,
   "id": "21006f00",
   "metadata": {},
   "outputs": [],
   "source": [
    "from ipywidgets import interact\n",
    "from IPython.display import display, Image\n",
    "\n",
    "def browse_images(items, browse_asset='vnir-browse'):\n",
    "    browse_items = [\n",
    "        pc.sign_assets(item)\n",
    "        for item in items\n",
    "        if browse_asset in item.assets\n",
    "    ]\n",
    "    n = len(browse_items)\n",
    "\n",
    "    def view_image(i=0):\n",
    "        item = browse_items[i]\n",
    "        print(f\"id={item.id}\\tdate={item.datetime}\\tcloud%={item.ext.eo.cloud_cover}\")\n",
    "        display(Image(url=item.assets[browse_asset].href))\n",
    "\n",
    "    interact(view_image, i=(0,n-1))"
   ]
  },
  {
   "cell_type": "code",
   "execution_count": 464,
   "id": "a44d274e",
   "metadata": {},
   "outputs": [
    {
     "data": {
      "application/vnd.jupyter.widget-view+json": {
       "model_id": "9d5920a51ffc4c898dc5d8f499455b9e",
       "version_major": 2,
       "version_minor": 0
      },
      "text/plain": [
       "interactive(children=(IntSlider(value=0, description='i', max=43), Output()), _dom_classes=('widget-interact',…"
      ]
     },
     "metadata": {},
     "output_type": "display_data"
    }
   ],
   "source": [
    "browse_images(search.items())"
   ]
  }
 ],
 "metadata": {
  "kernelspec": {
   "display_name": "Python 3",
   "language": "python",
   "name": "python3"
  },
  "language_info": {
   "codemirror_mode": {
    "name": "ipython",
    "version": 3
   },
   "file_extension": ".py",
   "mimetype": "text/x-python",
   "name": "python",
   "nbconvert_exporter": "python",
   "pygments_lexer": "ipython3",
   "version": "3.8.8"
  }
 },
 "nbformat": 4,
 "nbformat_minor": 5
}
